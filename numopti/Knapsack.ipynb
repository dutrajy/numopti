{
 "cells": [
  {
   "cell_type": "markdown",
   "id": "8d0ee54c-8bcf-41f9-b73b-fc677d868267",
   "metadata": {},
   "source": [
    "# Knapsack Problem\n",
    "\n",
    "Description of the problem (from [Wikipedia](https://en.wikipedia.org/wiki/Knapsack_problem)):\n",
    "\n",
    "> Given a set of items, each with a weight and a value, determine which items to include in the collection so that the total weight is less than or equal to a given limit and the total value is as large as possible.\n",
    "\n",
    "Example:\n",
    "\n",
    "<table>\n",
    "    <thead>\n",
    "        <th>Item</th>\n",
    "        <th>Weight</th>\n",
    "        <th>Value</th>\n",
    "    </thead>\n",
    "    <tbody>\n",
    "        <tr>\n",
    "            <td>A</td>\n",
    "            <td>3</td>\n",
    "            <td>4</td>\n",
    "        </tr>\n",
    "        <tr>\n",
    "            <td>B</td>\n",
    "            <td>2</td>\n",
    "            <td>2</td>\n",
    "        </tr>\n",
    "        <tr>\n",
    "            <td>C</td>\n",
    "            <td>7</td>\n",
    "            <td>10</td>\n",
    "        </tr>\n",
    "        <tr>\n",
    "            <td>D</td>\n",
    "            <td>4</td>\n",
    "            <td>5</td>\n",
    "        </tr>\n",
    "        <tr>\n",
    "            <td>E</td>\n",
    "            <td>5</td>\n",
    "            <td>6</td>\n",
    "        </tr>\n",
    "    </tbody>\n",
    "</table>\n",
    "\n",
    "Knapsack Capacity:\n",
    "\n",
    "<table>\n",
    "    <thead>\n",
    "        <th>Capacity</th>\n",
    "    </thead>\n",
    "    <tbody>\n",
    "        <tr><td>11</td></tr>\n",
    "    </tbody>\n",
    "</table>\n"
   ]
  },
  {
   "cell_type": "code",
   "execution_count": 1,
   "id": "c41c16d5-4111-4466-a078-7cf91265ecf2",
   "metadata": {},
   "outputs": [],
   "source": [
    "# Problem Constants\n",
    "ITEMS = [\n",
    "    { \"name\": \"A\", \"weight\": 3, \"value\": 4 },\n",
    "    { \"name\": \"B\", \"weight\": 2, \"value\": 2 },\n",
    "    { \"name\": \"C\", \"weight\": 7, \"value\": 10 },\n",
    "    { \"name\": \"D\", \"weight\": 4, \"value\": 5 },\n",
    "    { \"name\": \"E\", \"weight\": 5, \"value\": 6 },\n",
    "]\n",
    "\n",
    "KNAPSACK_CAPACITY = 11\n",
    "\n",
    "# Ultility Methods\n",
    "def select_items_until_capacity(items):\n",
    "    selected_items = []\n",
    "    weight = 0\n",
    "    for item in items:\n",
    "        if weight + item[\"weight\"] <= KNAPSACK_CAPACITY:\n",
    "            selected_items.append(item)\n",
    "            weight += item[\"weight\"]\n",
    "    return selected_items\n",
    "\n",
    "def solution_summary(solution_items):\n",
    "    items = [item[\"name\"] for item in solution_items]\n",
    "    load = sum([item[\"weight\"] for item in solution_items])\n",
    "    value = sum([item[\"value\"] for item in solution_items])\n",
    "    return {\n",
    "        \"items\": items,\n",
    "        \"load\": f\"{load:.2f}\",\n",
    "        \"value\": f\"{value:.2f}\",\n",
    "        \"ksnapsack_usage\": f\"{(load/KNAPSACK_CAPACITY)*100:.2f}%\"\n",
    "    }"
   ]
  },
  {
   "cell_type": "code",
   "execution_count": 2,
   "id": "679c78a9-8a8d-4919-a648-5066c7914cce",
   "metadata": {},
   "outputs": [
    {
     "data": {
      "text/plain": [
       "{'items': ['B', 'A', 'D'],\n",
       " 'load': '9.00',\n",
       " 'value': '11.00',\n",
       " 'ksnapsack_usage': '81.82%'}"
      ]
     },
     "execution_count": 2,
     "metadata": {},
     "output_type": "execute_result"
    }
   ],
   "source": [
    "# First attempt: Try to select the most lighther items until we achieve the capacity\n",
    "items_sorted_by_weight = sorted(ITEMS, key=lambda i: i[\"weight\"])\n",
    "s1_items = select_items_until_capacity(items_sorted_by_weight)\n",
    "solution_summary(s1_items)"
   ]
  },
  {
   "cell_type": "code",
   "execution_count": 3,
   "id": "a2868000-0e88-4582-acd0-b6f4f4df2413",
   "metadata": {},
   "outputs": [
    {
     "data": {
      "text/plain": [
       "{'items': ['C', 'D'],\n",
       " 'load': '11.00',\n",
       " 'value': '15.00',\n",
       " 'ksnapsack_usage': '100.00%'}"
      ]
     },
     "execution_count": 3,
     "metadata": {},
     "output_type": "execute_result"
    }
   ],
   "source": [
    "# Second attempt: Try to select the most valuable items until we achieve the capacity\n",
    "items_sorted_by_value = sorted(ITEMS, key=lambda i: i[\"value\"], reverse=True)\n",
    "s2_items = select_items_until_capacity(items_sorted_by_value)\n",
    "solution_summary(s2_items)"
   ]
  },
  {
   "cell_type": "code",
   "execution_count": 4,
   "id": "c74720be-553b-445d-aadf-c5f5e1b6fd6a",
   "metadata": {},
   "outputs": [
    {
     "data": {
      "text/plain": [
       "{'items': ['C', 'A'],\n",
       " 'load': '10.00',\n",
       " 'value': '14.00',\n",
       " 'ksnapsack_usage': '90.91%'}"
      ]
     },
     "execution_count": 4,
     "metadata": {},
     "output_type": "execute_result"
    }
   ],
   "source": [
    "# Third attempt: Try to select the most profitable (relation between value and weight) items until we achieve the capacity\n",
    "items_sorted_by_profit = sorted(ITEMS, key=lambda i: i[\"value\"]/i[\"weight\"], reverse=True)\n",
    "s3_items = select_items_until_capacity(items_sorted_by_profit)\n",
    "solution_summary(s3_items)"
   ]
  },
  {
   "cell_type": "markdown",
   "id": "ec6c547c-e074-43cd-992d-b6bd8b4f92dd",
   "metadata": {},
   "source": [
    "## Linear Programming Mathematical Model\n",
    "\n",
    "**Definitions:**\n",
    "\n",
    "Constants:\n",
    "$$\n",
    "\\begin{aligned}\n",
    "    N & : \\text{Total number of items} \\\\\n",
    "    W & : \\text{Maximum capacity of the knapsack (maximum weight)}\n",
    "\\end{aligned}\n",
    "$$\n",
    "\n",
    "Parameters:\n",
    "$$\n",
    "\\begin{aligned}\n",
    "    i & : \\text{Index of an item, where } i = 1, 2, \\dots, N \\\\\n",
    "    v_i & : \\text{Value of item } i \\\\\n",
    "    w_i & : \\text{Weight of item } i\n",
    "\\end{aligned}\n",
    "$$\n",
    "\n",
    "Variables:\n",
    "$$\n",
    "\\begin{aligned}\n",
    "    x_i & =\n",
    "        \\begin{cases}\n",
    "            1 & \\text{if item } i \\text{ is included in the knapsack} \\\\\n",
    "            0 & \\text{otherwise}\n",
    "        \\end{cases}\n",
    "\\end{aligned}\n",
    "$$\n",
    "\n",
    "\n",
    "**Constraints:**\n",
    "\n",
    "Total weight of selected items must not exceed the knapsack capacity:\n",
    "$$\n",
    "\\sum_{i=1}^{N} w_i x_i \\leq W\n",
    "$$\n",
    "\n",
    "Each item can either be included (1) or not (0):\n",
    "$$\n",
    "    x_i \\in \\{0, 1\\}\n",
    "$$\n",
    "\n",
    "\n",
    "**Goal:**\n",
    "\n",
    "Maximize the total value of selected items:\n",
    "$$\n",
    "    \\text{Maximize} \\sum_{i=1}^{N} v_i x_i\n",
    "$$\n"
   ]
  },
  {
   "cell_type": "code",
   "execution_count": 5,
   "id": "fc4ef173-5721-4e4d-9617-bd5869027159",
   "metadata": {},
   "outputs": [
    {
     "name": "stdout",
     "output_type": "stream",
     "text": [
      "Running HiGHS 1.10.0 (git hash: fd86653): Copyright (c) 2025 HiGHS under MIT licence terms\n",
      "RUN!\n",
      "MIP  has 1 rows; 5 cols; 5 nonzeros; 5 integer variables (5 binary)\n",
      "Coefficient ranges:\n",
      "  Matrix [2e+00, 7e+00]\n",
      "  Cost   [2e+00, 1e+01]\n",
      "  Bound  [1e+00, 1e+00]\n",
      "  RHS    [1e+01, 1e+01]\n",
      "Presolving model\n",
      "1 rows, 5 cols, 5 nonzeros  0s\n",
      "1 rows, 5 cols, 5 nonzeros  0s\n",
      "Objective function is integral with scale 1\n",
      "\n",
      "Solving MIP model with:\n",
      "   1 rows\n",
      "   5 cols (5 binary, 0 integer, 0 implied int., 0 continuous)\n",
      "   5 nonzeros\n",
      "\n",
      "Src: B => Branching; C => Central rounding; F => Feasibility pump; H => Heuristic; L => Sub-MIP;\n",
      "     P => Empty MIP; R => Randomized rounding; S => Solve LP; T => Evaluate node; U => Unbounded;\n",
      "     z => Trivial zero; l => Trivial lower; u => Trivial upper; p => Trivial point; X => User solution\n",
      "\n",
      "        Nodes      |    B&B Tree     |            Objective Bounds              |  Dynamic Constraints |       Work      \n",
      "Src  Proc. InQueue |  Leaves   Expl. | BestBound       BestSol              Gap |   Cuts   InLp Confl. | LpIters     Time\n",
      "\n",
      " z       0       0         0   0.00%   inf             -0                 Large        0      0      0         0     0.0s\n",
      " T       0       0         0   0.00%   21              15                40.00%        0      0      0         1     0.0s\n",
      "         1       0         1 100.00%   15              15                 0.00%        0      0      0         1     0.0s\n",
      "\n",
      "Solving report\n",
      "  Status            Optimal\n",
      "  Primal bound      15\n",
      "  Dual bound        15\n",
      "  Gap               0% (tolerance: 0.01%)\n",
      "  P-D integral      8.20159912109e-06\n",
      "  Solution status   feasible\n",
      "                    15 (objective)\n",
      "                    0 (bound viol.)\n",
      "                    0 (int. viol.)\n",
      "                    0 (row viol.)\n",
      "  Timing            0.02 (total)\n",
      "                    0.00 (presolve)\n",
      "                    0.00 (solve)\n",
      "                    0.00 (postsolve)\n",
      "  Max sub-MIP depth 0\n",
      "  Nodes             1\n",
      "  Repair LPs        0 (0 feasible; 0 iterations)\n",
      "  LP iterations     1 (total)\n",
      "                    0 (strong br.)\n",
      "                    0 (separation)\n",
      "                    0 (heuristics)\n"
     ]
    },
    {
     "data": {
      "text/plain": [
       "{'items': ['C', 'D'],\n",
       " 'load': '11.00',\n",
       " 'value': '15.00',\n",
       " 'ksnapsack_usage': '100.00%'}"
      ]
     },
     "execution_count": 5,
     "metadata": {},
     "output_type": "execute_result"
    }
   ],
   "source": [
    "# PYOMO\n",
    "import pyomo.environ as pyo\n",
    "\n",
    "model = pyo.ConcreteModel()\n",
    "\n",
    "# Contant N: Total number of items\n",
    "model.N = pyo.Param(initialize=len(ITEMS)) # Actualy not needed\n",
    "\n",
    "# Constant W: Maximum capacity of the knapsack (maximum weight)\n",
    "model.W = pyo.Param(initialize=KNAPSACK_CAPACITY)\n",
    "\n",
    "# Set I = {A, B, C, D, E}\n",
    "model.I = pyo.Set(initialize=[item[\"name\"] for item in ITEMS])\n",
    "\n",
    "# Parameter v: Value of an item\n",
    "model.v = pyo.Param(model.I, initialize={item[\"name\"]: item[\"value\"] for item in ITEMS})\n",
    "\n",
    "# Parameter w: Weight of an item\n",
    "model.w = pyo.Param(model.I, initialize={item[\"name\"]: item[\"weight\"] for item in ITEMS})\n",
    "\n",
    "# Variable x: Defined if an item i is in the knapsack or not (1 or 0)\n",
    "model.x = pyo.Var(model.I, within=pyo.Binary)\n",
    "\n",
    "# Constraint 1: Total weight of selected items must not exceed the knapsack capacity\n",
    "def capacity_constraint(model):\n",
    "    return sum(model.w[i] * model.x[i] for i in model.I) <= model.W\n",
    "\n",
    "model.capacity_constraint = pyo.Constraint(rule=capacity_constraint)\n",
    "\n",
    "# Goal: Maximize the total value of selected items\n",
    "def objective_function(model):\n",
    "    return sum(model.v[i] * model.x[i] for i in model.I)\n",
    "\n",
    "model.objective_function = pyo.Objective(rule=objective_function, sense=pyo.maximize)\n",
    "\n",
    "# Instantiate Highs persistent solver (install highspy)\n",
    "solver = pyo.SolverFactory(\"appsi_highs\")\n",
    "\n",
    "solver.solve(model, tee=True)\n",
    "\n",
    "pyomo_selected_items = [item for item in ITEMS if model.x.extract_values()[item[\"name\"]] == 1]\n",
    "solution_summary(pyomo_selected_items)"
   ]
  }
 ],
 "metadata": {
  "kernelspec": {
   "display_name": "Python 3 (ipykernel)",
   "language": "python",
   "name": "python3"
  },
  "language_info": {
   "codemirror_mode": {
    "name": "ipython",
    "version": 3
   },
   "file_extension": ".py",
   "mimetype": "text/x-python",
   "name": "python",
   "nbconvert_exporter": "python",
   "pygments_lexer": "ipython3",
   "version": "3.13.2"
  }
 },
 "nbformat": 4,
 "nbformat_minor": 5
}
